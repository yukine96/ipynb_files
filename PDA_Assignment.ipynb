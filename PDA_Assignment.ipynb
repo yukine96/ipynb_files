{
 "cells": [
  {
   "cell_type": "code",
   "execution_count": null,
   "id": "a8e45fa4",
   "metadata": {},
   "outputs": [],
   "source": [
    "assign(\"last.warning\", NULL, envir = baseenv())"
   ]
  },
  {
   "cell_type": "code",
   "execution_count": null,
   "id": "fb83110b",
   "metadata": {
    "scrolled": false
   },
   "outputs": [],
   "source": [
    "install.packages(\"tidyverse\")"
   ]
  },
  {
   "cell_type": "code",
   "execution_count": null,
   "id": "f477332f",
   "metadata": {},
   "outputs": [],
   "source": [
    "install.packages(\"readxl\")"
   ]
  },
  {
   "cell_type": "code",
   "execution_count": null,
   "id": "57a08745",
   "metadata": {},
   "outputs": [],
   "source": [
    "library(\"readxl\")\n",
    "Crime_India <- read_excel(\"Crime_India.xlsx\") "
   ]
  },
  {
   "cell_type": "code",
   "execution_count": null,
   "id": "0f571f07",
   "metadata": {
    "scrolled": true
   },
   "outputs": [],
   "source": [
    "head(Crime_India)"
   ]
  },
  {
   "cell_type": "code",
   "execution_count": null,
   "id": "0c33e9dc",
   "metadata": {},
   "outputs": [],
   "source": [
    "Crime_India$Avg_Income_N <- as.integer(Crime_India$Avg_Income_N)\n",
    "Crime_India$UnEmployeement <- as.numeric(Crime_India$UnEmployeement)\n",
    "names(Crime_India)[1]<-paste(\"States\")\n",
    "names(Crime_India)[31]<-paste(\"Total_Crime\")\n",
    "attach(Crime_India)"
   ]
  },
  {
   "cell_type": "code",
   "execution_count": null,
   "id": "9eb99938",
   "metadata": {
    "scrolled": false
   },
   "outputs": [],
   "source": [
    "str(Crime_India)"
   ]
  },
  {
   "cell_type": "code",
   "execution_count": null,
   "id": "5588b57b",
   "metadata": {},
   "outputs": [],
   "source": [
    "dim(Crime_India)"
   ]
  },
  {
   "cell_type": "code",
   "execution_count": null,
   "id": "0c037fe5",
   "metadata": {},
   "outputs": [],
   "source": [
    "library(ggplot2)"
   ]
  },
  {
   "cell_type": "code",
   "execution_count": null,
   "id": "60da673a",
   "metadata": {},
   "outputs": [],
   "source": [
    "ggplot(Crime_India, aes(Total_Crime, fill = Zone)) +\n",
    "    geom_histogram(bins=20) + theme(axis.text.x = element_text(angle = 90, vjust = 0.5, hjust=1))"
   ]
  },
  {
   "cell_type": "code",
   "execution_count": null,
   "id": "12a9554a",
   "metadata": {},
   "outputs": [],
   "source": [
    "DF_Crime_Less_60000 <- Crime_India[which(Crime_India$Total_Crime<=60000),]\n",
    "head(DF_Crime_Less_60000)"
   ]
  },
  {
   "cell_type": "code",
   "execution_count": null,
   "id": "02a5a57d",
   "metadata": {},
   "outputs": [],
   "source": [
    "DF_Crime_More_60000 <- Crime_India[which(Crime_India$Total_Crime>=60000),]\n",
    "head(DF_Crime_More_60000)"
   ]
  },
  {
   "cell_type": "code",
   "execution_count": null,
   "id": "41c5a82d",
   "metadata": {},
   "outputs": [],
   "source": [
    "attach(DF_Crime_More_60000)"
   ]
  },
  {
   "cell_type": "code",
   "execution_count": null,
   "id": "73e7ae2a",
   "metadata": {},
   "outputs": [],
   "source": [
    "qqnorm(log(Rape),col=\"red\")\n",
    "qqline(log(Rape),col=\"blue\")"
   ]
  },
  {
   "cell_type": "code",
   "execution_count": null,
   "id": "324f62dc",
   "metadata": {},
   "outputs": [],
   "source": [
    "shapiro.test(log(Rape))"
   ]
  },
  {
   "cell_type": "code",
   "execution_count": null,
   "id": "2235560a",
   "metadata": {},
   "outputs": [],
   "source": [
    "library(lattice)\n",
    "cor=cor(DF_Crime_More_60000[,c(3,5,7,9,10,11,14,15,16,18)], use=\"pairwise\", method=\"spearman\")\n",
    "library(viridisLite)\n",
    "coul <- viridis(100)\n",
    "levelplot(cor, aspect=\"iso\", scales=list(x=list(rot=90)), col.regions = coul)\n",
    "cor\n"
   ]
  },
  {
   "cell_type": "code",
   "execution_count": null,
   "id": "0339adfe",
   "metadata": {
    "scrolled": false
   },
   "outputs": [],
   "source": [
    "model5 <- lm(log(Rape) ~ Zone + Population_N + Avg_Income_N + Poverty_N + UnEmployeement + SexRatio + Literacy_Rate_N + Widowed + Seperated_Total + Divorced_Total, data = DF_Crime_More_60000)\n",
    "summary(model5)"
   ]
  },
  {
   "cell_type": "code",
   "execution_count": null,
   "id": "2939adb3",
   "metadata": {
    "scrolled": false
   },
   "outputs": [],
   "source": [
    "   par(mfrow = c(2,2))\n",
    "plot(model5)"
   ]
  },
  {
   "cell_type": "code",
   "execution_count": null,
   "id": "90f76503",
   "metadata": {},
   "outputs": [],
   "source": []
  },
  {
   "cell_type": "code",
   "execution_count": null,
   "id": "f9f4ae34",
   "metadata": {},
   "outputs": [],
   "source": []
  },
  {
   "cell_type": "code",
   "execution_count": null,
   "id": "b24344d6",
   "metadata": {},
   "outputs": [],
   "source": []
  },
  {
   "cell_type": "code",
   "execution_count": null,
   "id": "f3395d1b",
   "metadata": {},
   "outputs": [],
   "source": []
  },
  {
   "cell_type": "code",
   "execution_count": null,
   "id": "d0b54f31",
   "metadata": {},
   "outputs": [],
   "source": []
  },
  {
   "cell_type": "code",
   "execution_count": null,
   "id": "40371eaa",
   "metadata": {},
   "outputs": [],
   "source": []
  },
  {
   "cell_type": "code",
   "execution_count": null,
   "id": "2f02a1e4",
   "metadata": {},
   "outputs": [],
   "source": []
  },
  {
   "cell_type": "code",
   "execution_count": null,
   "id": "2cf5de49",
   "metadata": {},
   "outputs": [],
   "source": []
  },
  {
   "cell_type": "code",
   "execution_count": null,
   "id": "06d22740",
   "metadata": {},
   "outputs": [],
   "source": []
  },
  {
   "cell_type": "code",
   "execution_count": null,
   "id": "1407fae4",
   "metadata": {},
   "outputs": [],
   "source": [
    "## The below code is for my individual project. Above code is for the group."
   ]
  },
  {
   "cell_type": "code",
   "execution_count": null,
   "id": "a3651423",
   "metadata": {},
   "outputs": [],
   "source": [
    "qqnorm(sqrt(Riots), col= \"red\" )\n",
    "qqline(sqrt(Riots), col = \"Green\")"
   ]
  },
  {
   "cell_type": "code",
   "execution_count": null,
   "id": "25cf066c",
   "metadata": {},
   "outputs": [],
   "source": [
    "install.packages(\"ggpubr\")"
   ]
  },
  {
   "cell_type": "code",
   "execution_count": null,
   "id": "c17b237a",
   "metadata": {},
   "outputs": [],
   "source": [
    "library(\"ggpubr\")\n",
    "ggboxplot(DF_Crime_More_60000, x = \"Literacy_Rate\", y = \"Riots\", \n",
    "          color = \"Literacy_Rate\", palette = c(\"#00AFBB\", \"#E7B800\", \"#FC4E07\"),\n",
    "          ylab = \"Riots\", xlab = \"Literacy\")"
   ]
  },
  {
   "cell_type": "code",
   "execution_count": null,
   "id": "57f2a2dd",
   "metadata": {
    "scrolled": true
   },
   "outputs": [],
   "source": [
    "res.aov <- aov(sqrt(Riots) ~ Literacy_Rate, data = DF_Crime_More_60000)\n",
    "# Summary of the analysis\n",
    "summary(res.aov)"
   ]
  },
  {
   "cell_type": "code",
   "execution_count": null,
   "id": "f2c311b9",
   "metadata": {},
   "outputs": [],
   "source": [
    "plot(res.aov,2)"
   ]
  },
  {
   "cell_type": "code",
   "execution_count": null,
   "id": "0961b17b",
   "metadata": {},
   "outputs": [],
   "source": [
    "# Extract the residuals\n",
    "aov_residuals <- residuals(object = res.aov )\n",
    "# Run Shapiro-Wilk test\n",
    "shapiro.test(x = aov_residuals )"
   ]
  },
  {
   "cell_type": "code",
   "execution_count": null,
   "id": "7afa80ff",
   "metadata": {
    "scrolled": false
   },
   "outputs": [],
   "source": [
    "tukey.test5 <- TukeyHSD(res.aov)\n",
    "print(tukey.test5)"
   ]
  },
  {
   "cell_type": "code",
   "execution_count": null,
   "id": "9e6a0e4e",
   "metadata": {},
   "outputs": [],
   "source": []
  }
 ],
 "metadata": {
  "kernelspec": {
   "display_name": "R",
   "language": "R",
   "name": "ir"
  },
  "language_info": {
   "codemirror_mode": "r",
   "file_extension": ".r",
   "mimetype": "text/x-r-source",
   "name": "R",
   "pygments_lexer": "r",
   "version": "3.6.1"
  }
 },
 "nbformat": 4,
 "nbformat_minor": 5
}
